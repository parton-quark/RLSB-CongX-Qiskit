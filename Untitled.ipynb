{
 "cells": [
  {
   "cell_type": "code",
   "execution_count": null,
   "metadata": {},
   "outputs": [],
   "source": [
    "def _gate_conversion():\n",
    "    # Convert gate(tn a,b,c,... and f3 a,b,c,...) to gate(qc.cnx(a,b,c,...) and qc.cnf(a,b,c,...))\n",
    "    # Convert valiable to qubit number \n",
    "    \n",
    "    tの後の数字は拾わなくて良い\n",
    "    変数を数字に変換\n",
    "\n",
    "    \n",
    "    \n",
    "# t3 c,d,b\n",
    "# t4 a,b,c,d\n",
    "# t2 c,a\n",
    "# t1 b\n",
    "# t1 c\n",
    "# t2 a,d\n",
    "# t3 b,d,c"
   ]
  },
  {
   "cell_type": "code",
   "execution_count": null,
   "metadata": {},
   "outputs": [],
   "source": [
    "def _gate_conversion():\n",
    "    # Convert gate(tn a,b,c,... and f3 a,b,c,...) to gate(qc.cnx(a,b,c,...) and qc.cnf(a,b,c,...))\n",
    "    # Convert valiable to qubit number \n",
    "    \n",
    "    tの後の数字は拾わなくて良い\n",
    "    変数を数字に変換"
   ]
  }
 ],
 "metadata": {
  "kernelspec": {
   "display_name": "Python 3",
   "language": "python",
   "name": "python3"
  },
  "language_info": {
   "codemirror_mode": {
    "name": "ipython",
    "version": 3
   },
   "file_extension": ".py",
   "mimetype": "text/x-python",
   "name": "python",
   "nbconvert_exporter": "python",
   "pygments_lexer": "ipython3",
   "version": "3.7.4"
  }
 },
 "nbformat": 4,
 "nbformat_minor": 4
}
