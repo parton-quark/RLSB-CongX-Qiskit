{
 "cells": [
  {
   "cell_type": "code",
   "execution_count": 5,
   "metadata": {},
   "outputs": [
    {
     "name": "stdout",
     "output_type": "stream",
     "text": [
      "<_io.TextIOWrapper name='4b15g_1.tfc.txt' mode='r' encoding='UTF-8'>\n"
     ]
    }
   ],
   "source": [
    "path = '4b15g_1.tfc.txt'\n",
    "f = open(path)\n",
    "print(f)\n",
    "\n",
    "\n",
    "\n",
    "# <class '_io.TextIOWrapper'>\n",
    "f.close()"
   ]
  },
  {
   "cell_type": "code",
   "execution_count": 9,
   "metadata": {},
   "outputs": [
    {
     "name": "stdout",
     "output_type": "stream",
     "text": [
      "# (c) Copyright 2004-2011 Oleg Golubitsky and Dmitri Maslov\n",
      "# Distributing this file without an express written permission or erasing this note is prohibited.\n",
      ".v a,b,c,d\n",
      ".i a,b,c,d\n",
      ".o a,b,c,d\n",
      "BEGIN\n",
      "t2 a,c\n",
      "t2 c,d\n",
      "t2 d,a\n",
      "t3 b,d,c\n",
      "t2 a,b\n",
      "t3 c,d,b\n",
      "t4 a,b,c,d\n",
      "t2 c,a\n",
      "t1 b\n",
      "t1 c\n",
      "t2 a,d\n",
      "t3 b,d,c\n",
      "t3 b,c,a\n",
      "t3 a,c,b\n",
      "t1 c\n",
      "END\n"
     ]
    }
   ],
   "source": [
    "with open(path) as f:\n",
    "    s = f.read()\n",
    "    print(s)"
   ]
  },
  {
   "cell_type": "code",
   "execution_count": 13,
   "metadata": {},
   "outputs": [
    {
     "name": "stdout",
     "output_type": "stream",
     "text": [
      "line is as shown\n",
      "# (c) Copyright 2004-2011 Oleg Golubitsky and Dmitri Maslov\n",
      "\n",
      "line is as shown\n",
      "# Distributing this file without an express written permission or erasing this note is prohibited.\n",
      "\n",
      "line is as shown\n",
      ".v a,b,c,d\n",
      "\n",
      "line is as shown\n",
      ".i a,b,c,d\n",
      "\n",
      "line is as shown\n",
      ".o a,b,c,d\n",
      "\n",
      "line is as shown\n",
      "BEGIN\n",
      "\n",
      "line is as shown\n",
      "t2 a,c\n",
      "\n",
      "line is as shown\n",
      "t2 c,d\n",
      "\n",
      "line is as shown\n",
      "t2 d,a\n",
      "\n",
      "line is as shown\n",
      "t3 b,d,c\n",
      "\n",
      "line is as shown\n",
      "t2 a,b\n",
      "\n",
      "line is as shown\n",
      "t3 c,d,b\n",
      "\n",
      "line is as shown\n",
      "t4 a,b,c,d\n",
      "\n",
      "line is as shown\n",
      "t2 c,a\n",
      "\n",
      "line is as shown\n",
      "t1 b\n",
      "\n",
      "line is as shown\n",
      "t1 c\n",
      "\n",
      "line is as shown\n",
      "t2 a,d\n",
      "\n",
      "line is as shown\n",
      "t3 b,d,c\n",
      "\n",
      "line is as shown\n",
      "t3 b,c,a\n",
      "\n",
      "line is as shown\n",
      "t3 a,c,b\n",
      "\n",
      "line is as shown\n",
      "t1 c\n",
      "\n",
      "line is as shown\n",
      "END\n"
     ]
    },
    {
     "ename": "NameError",
     "evalue": "name 'path_w' is not defined",
     "output_type": "error",
     "traceback": [
      "\u001b[0;31m---------------------------------------------------------------------------\u001b[0m",
      "\u001b[0;31mNameError\u001b[0m                                 Traceback (most recent call last)",
      "\u001b[0;32m<ipython-input-13-77f9d156fe2a>\u001b[0m in \u001b[0;36m<module>\u001b[0;34m\u001b[0m\n\u001b[1;32m     15\u001b[0m     \u001b[0mf\u001b[0m\u001b[0;34m.\u001b[0m\u001b[0mwrite\u001b[0m\u001b[0;34m(\u001b[0m\u001b[0ms\u001b[0m\u001b[0;34m)\u001b[0m\u001b[0;34m\u001b[0m\u001b[0;34m\u001b[0m\u001b[0m\n\u001b[1;32m     16\u001b[0m \u001b[0;34m\u001b[0m\u001b[0m\n\u001b[0;32m---> 17\u001b[0;31m \u001b[0;32mwith\u001b[0m \u001b[0mopen\u001b[0m\u001b[0;34m(\u001b[0m\u001b[0mpath_w\u001b[0m\u001b[0;34m)\u001b[0m \u001b[0;32mas\u001b[0m \u001b[0mf\u001b[0m\u001b[0;34m:\u001b[0m\u001b[0;34m\u001b[0m\u001b[0;34m\u001b[0m\u001b[0m\n\u001b[0m\u001b[1;32m     18\u001b[0m     \u001b[0mprint\u001b[0m\u001b[0;34m(\u001b[0m\u001b[0mf\u001b[0m\u001b[0;34m.\u001b[0m\u001b[0mread\u001b[0m\u001b[0;34m(\u001b[0m\u001b[0;34m)\u001b[0m\u001b[0;34m)\u001b[0m\u001b[0;34m\u001b[0m\u001b[0;34m\u001b[0m\u001b[0m\n\u001b[1;32m     19\u001b[0m \u001b[0;31m# New file\u001b[0m\u001b[0;34m\u001b[0m\u001b[0;34m\u001b[0m\u001b[0;34m\u001b[0m\u001b[0m\n",
      "\u001b[0;31mNameError\u001b[0m: name 'path_w' is not defined"
     ]
    }
   ],
   "source": [
    "#!/usr/bin/python\n",
    "# coding: UTF-8\n",
    "head1 =  '# (c) Copyright 2004-2011 Oleg Golubitsky and Dmitri Maslov'\n",
    "head2 = '# Distributing this file without an express written permission or erasing this note is prohibited.'\n",
    "\n",
    "f = open('4b15g_1.tfc.txt')\n",
    "line = f.readline() # 1行を文字列として読み込む(改行文字も含まれる)\n",
    "line_num = 0\n",
    "while line:\n",
    "    #各行に対する処理\n",
    "    line_num += 1\n",
    "    print(line)\n",
    "    line = f.readline()\n",
    "f.close"
   ]
  },
  {
   "cell_type": "code",
   "execution_count": null,
   "metadata": {},
   "outputs": [],
   "source": [
    ".v a,b,c,d　　→q =  QuantumRegister(4)的な"
   ]
  },
  {
   "cell_type": "code",
   "execution_count": 1,
   "metadata": {},
   "outputs": [],
   "source": [
    "def prepare_register(line_qubit):    \n",
    "    line_qubit = line_qubit.replace(' ', '')\n",
    "    line_qubit = line_qubit.replace('　', '')\n",
    "#     line_qubit = line_qubit.replace('.', '')\n",
    "    if line_qubit[0:2] == '.v':\n",
    "        line_qubit = line_qubit.lstrip('.v')\n",
    "        num_qubit = _count_num_qubits(line_qubit) + 1\n",
    "        return num_qubit\n",
    "    else:\n",
    "        print('error, prepare_register() have some problem')\n",
    "        print(line_qubit)\n",
    "        \n",
    "def input_qubits(line_qubit):    \n",
    "    line_qubit = line_qubit.replace(' ', '')\n",
    "    line_qubit = line_qubit.replace('　', '')\n",
    "#     line_qubit = line_qubit.replace('.', '')\n",
    "    if line_qubit[0:2] == '.i':\n",
    "        line_qubit = line_qubit.lstrip('.i')\n",
    "        i_qubits = abcを数字のリストに直したやつ\n",
    "        return num_qubits\n",
    "    else:\n",
    "        print('error, input_qubits() have some problem')\n",
    "        print(line_qubit)\n",
    "\n",
    "def output_qubits(line_qubit):    \n",
    "    line_qubit = line_qubit.replace(' ', '')\n",
    "    line_qubit = line_qubit.replace('　', '')\n",
    "#     line_qubit = line_qubit.replace('.', '')\n",
    "    if line_qubit[0:2] == '.o':\n",
    "        line_qubit = line_qubit.lstrip('.o')\n",
    "        o_qubits = abcを数字のリストにしたやつ\n",
    "        return o_qubits\n",
    "    else:\n",
    "        print('error, output_qubits() have some problem')\n",
    "        print(line_qubit)\n",
    "        \n",
    "def _count_num_qubits(qubit_str):\n",
    "    alphabets = {'a':0,'b':1,'c':2,'d':3,'e':4,'f':5,'g':6,'h':7,'i':8,'j':9,'k':10,'l':11,'m':12,'n':13,'o':14,'p':15,'q':16,'r':17,'s':18,'t':19,'u':20,'v':21,'w':22,'x':23,'y':24,'z':25}\n",
    "    if qubit_str[0] == 'a':\n",
    "        num = alphabets[qubit_str[-1]]\n",
    "        return num\n",
    "    else: \n",
    "        print('error, count_num_qubits() have some problem')\n",
    "        print(qubit_str)"
   ]
  },
  {
   "cell_type": "code",
   "execution_count": 2,
   "metadata": {},
   "outputs": [],
   "source": [
    "\n",
    "        \n"
   ]
  },
  {
   "cell_type": "code",
   "execution_count": 3,
   "metadata": {},
   "outputs": [
    {
     "data": {
      "text/plain": [
       "4"
      ]
     },
     "execution_count": 3,
     "metadata": {},
     "output_type": "execute_result"
    }
   ],
   "source": [
    "prepare_register('.v a,b,c,d')"
   ]
  },
  {
   "cell_type": "code",
   "execution_count": 12,
   "metadata": {},
   "outputs": [
    {
     "data": {
      "text/plain": [
       "5"
      ]
     },
     "execution_count": 12,
     "metadata": {},
     "output_type": "execute_result"
    }
   ],
   "source": [
    "cutting('.v a,b,c,d,e')"
   ]
  },
  {
   "cell_type": "code",
   "execution_count": null,
   "metadata": {},
   "outputs": [],
   "source": [
    "path = '4b15g_1.tfc.txt'\n",
    "s = 'New file'\n",
    "\n",
    "with open(path, mode='w') as f:\n",
    "    f.write(s)\n",
    "\n",
    "with open(path_w) as f:\n",
    "    print(f.read())\n",
    "# New file"
   ]
  },
  {
   "cell_type": "code",
   "execution_count": null,
   "metadata": {},
   "outputs": [],
   "source": [
    "text = \n",
    "from qiskit import QuantumCircuit, QuantumRegister, ClassicalRegister\n",
    "from CongX.extensions.standard import cnx\n",
    "q =  QuantumRegister(4)\n",
    "# c = ClassicalRegister(0)\n",
    "qc = QuantumCircuit(q)\n",
    "qc.cx(0,2)\n",
    "qc.cx(2,3)\n",
    "qc.cx(3,0)\n",
    "qc.ccx(1,3,2)\n",
    "qc.cx(0,1)\n",
    "qc.ccx(2,3,1)\n",
    "qc.cnx(0,1,2,3)\n",
    "qc.cx(2,0)\n",
    "qc.x(1)\n",
    "qc.x(2)\n",
    "qc.cx(0,3)\n",
    "qc.ccx(1,3,2)\n",
    "qc.ccx(1,2,0)\n",
    "qc.ccx(0,2,1)\n",
    "qc.x(2)"
   ]
  }
 ],
 "metadata": {
  "kernelspec": {
   "display_name": "Python 3",
   "language": "python",
   "name": "python3"
  },
  "language_info": {
   "codemirror_mode": {
    "name": "ipython",
    "version": 3
   },
   "file_extension": ".py",
   "mimetype": "text/x-python",
   "name": "python",
   "nbconvert_exporter": "python",
   "pygments_lexer": "ipython3",
   "version": "3.7.4"
  }
 },
 "nbformat": 4,
 "nbformat_minor": 4
}
